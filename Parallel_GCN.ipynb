{
  "nbformat": 4,
  "nbformat_minor": 0,
  "metadata": {
    "colab": {
      "provenance": [],
      "gpuType": "T4"
    },
    "kernelspec": {
      "name": "python3",
      "display_name": "Python 3"
    },
    "language_info": {
      "name": "python"
    },
    "accelerator": "GPU"
  },
  "cells": [
    {
      "cell_type": "code",
      "source": [
        "!pip install torch-geometric"
      ],
      "metadata": {
        "collapsed": true,
        "colab": {
          "base_uri": "https://localhost:8080/"
        },
        "id": "tJDQK5cMUI6_",
        "outputId": "b1a50556-9b30-44ab-b5b6-4f4d333d051d"
      },
      "execution_count": 1,
      "outputs": [
        {
          "output_type": "stream",
          "name": "stdout",
          "text": [
            "Collecting torch-geometric\n",
            "  Downloading torch_geometric-2.6.1-py3-none-any.whl.metadata (63 kB)\n",
            "\u001b[?25l     \u001b[90m━━━━━━━━━━━━━━━━━━━━━━━━━━━━━━━━━━━━━━━━\u001b[0m \u001b[32m0.0/63.1 kB\u001b[0m \u001b[31m?\u001b[0m eta \u001b[36m-:--:--\u001b[0m\r\u001b[2K     \u001b[90m━━━━━━━━━━━━━━━━━━━━━━━━━━━━━━━━━━━━━━━━\u001b[0m \u001b[32m63.1/63.1 kB\u001b[0m \u001b[31m4.1 MB/s\u001b[0m eta \u001b[36m0:00:00\u001b[0m\n",
            "\u001b[?25hRequirement already satisfied: aiohttp in /usr/local/lib/python3.11/dist-packages (from torch-geometric) (3.11.15)\n",
            "Requirement already satisfied: fsspec in /usr/local/lib/python3.11/dist-packages (from torch-geometric) (2025.3.2)\n",
            "Requirement already satisfied: jinja2 in /usr/local/lib/python3.11/dist-packages (from torch-geometric) (3.1.6)\n",
            "Requirement already satisfied: numpy in /usr/local/lib/python3.11/dist-packages (from torch-geometric) (2.0.2)\n",
            "Requirement already satisfied: psutil>=5.8.0 in /usr/local/lib/python3.11/dist-packages (from torch-geometric) (5.9.5)\n",
            "Requirement already satisfied: pyparsing in /usr/local/lib/python3.11/dist-packages (from torch-geometric) (3.2.3)\n",
            "Requirement already satisfied: requests in /usr/local/lib/python3.11/dist-packages (from torch-geometric) (2.32.3)\n",
            "Requirement already satisfied: tqdm in /usr/local/lib/python3.11/dist-packages (from torch-geometric) (4.67.1)\n",
            "Requirement already satisfied: aiohappyeyeballs>=2.3.0 in /usr/local/lib/python3.11/dist-packages (from aiohttp->torch-geometric) (2.6.1)\n",
            "Requirement already satisfied: aiosignal>=1.1.2 in /usr/local/lib/python3.11/dist-packages (from aiohttp->torch-geometric) (1.3.2)\n",
            "Requirement already satisfied: attrs>=17.3.0 in /usr/local/lib/python3.11/dist-packages (from aiohttp->torch-geometric) (25.3.0)\n",
            "Requirement already satisfied: frozenlist>=1.1.1 in /usr/local/lib/python3.11/dist-packages (from aiohttp->torch-geometric) (1.6.0)\n",
            "Requirement already satisfied: multidict<7.0,>=4.5 in /usr/local/lib/python3.11/dist-packages (from aiohttp->torch-geometric) (6.4.3)\n",
            "Requirement already satisfied: propcache>=0.2.0 in /usr/local/lib/python3.11/dist-packages (from aiohttp->torch-geometric) (0.3.1)\n",
            "Requirement already satisfied: yarl<2.0,>=1.17.0 in /usr/local/lib/python3.11/dist-packages (from aiohttp->torch-geometric) (1.20.0)\n",
            "Requirement already satisfied: MarkupSafe>=2.0 in /usr/local/lib/python3.11/dist-packages (from jinja2->torch-geometric) (3.0.2)\n",
            "Requirement already satisfied: charset-normalizer<4,>=2 in /usr/local/lib/python3.11/dist-packages (from requests->torch-geometric) (3.4.2)\n",
            "Requirement already satisfied: idna<4,>=2.5 in /usr/local/lib/python3.11/dist-packages (from requests->torch-geometric) (3.10)\n",
            "Requirement already satisfied: urllib3<3,>=1.21.1 in /usr/local/lib/python3.11/dist-packages (from requests->torch-geometric) (2.4.0)\n",
            "Requirement already satisfied: certifi>=2017.4.17 in /usr/local/lib/python3.11/dist-packages (from requests->torch-geometric) (2025.4.26)\n",
            "Downloading torch_geometric-2.6.1-py3-none-any.whl (1.1 MB)\n",
            "\u001b[2K   \u001b[90m━━━━━━━━━━━━━━━━━━━━━━━━━━━━━━━━━━━━━━━━\u001b[0m \u001b[32m1.1/1.1 MB\u001b[0m \u001b[31m35.9 MB/s\u001b[0m eta \u001b[36m0:00:00\u001b[0m\n",
            "\u001b[?25hInstalling collected packages: torch-geometric\n",
            "Successfully installed torch-geometric-2.6.1\n"
          ]
        }
      ]
    },
    {
      "cell_type": "code",
      "execution_count": 2,
      "metadata": {
        "id": "kUFzibSB1dYn"
      },
      "outputs": [],
      "source": [
        "import networkx as nx\n",
        "# import numpy as np\n",
        "\n",
        "import torch.nn as nn\n",
        "import torch.nn.functional as F\n",
        "import torch\n",
        "# from torch.utils.data import DataLoader"
      ]
    },
    {
      "cell_type": "code",
      "source": [
        "from torch_geometric.datasets import Planetoid\n",
        "from torch_geometric.transforms import NormalizeFeatures\n",
        "\n",
        "dataset = Planetoid(root='data/Planetoid', name='Cora', transform=NormalizeFeatures())\n",
        "device = torch.device(\"cuda:0\" if torch.cuda.is_available() else \"cpu\")"
      ],
      "metadata": {
        "colab": {
          "base_uri": "https://localhost:8080/"
        },
        "id": "4RJ75_6kGvIp",
        "outputId": "b6c13325-6bf8-414b-bc56-d87579c3c700",
        "collapsed": true
      },
      "execution_count": 3,
      "outputs": [
        {
          "output_type": "stream",
          "name": "stderr",
          "text": [
            "Downloading https://github.com/kimiyoung/planetoid/raw/master/data/ind.cora.x\n",
            "Downloading https://github.com/kimiyoung/planetoid/raw/master/data/ind.cora.tx\n",
            "Downloading https://github.com/kimiyoung/planetoid/raw/master/data/ind.cora.allx\n",
            "Downloading https://github.com/kimiyoung/planetoid/raw/master/data/ind.cora.y\n",
            "Downloading https://github.com/kimiyoung/planetoid/raw/master/data/ind.cora.ty\n",
            "Downloading https://github.com/kimiyoung/planetoid/raw/master/data/ind.cora.ally\n",
            "Downloading https://github.com/kimiyoung/planetoid/raw/master/data/ind.cora.graph\n",
            "Downloading https://github.com/kimiyoung/planetoid/raw/master/data/ind.cora.test.index\n",
            "Processing...\n",
            "Done!\n"
          ]
        }
      ]
    },
    {
      "cell_type": "code",
      "source": [
        "data = dataset[0]\n",
        "print(data.x.shape) # [No. Nodes x Features]\n",
        "\n",
        "# Print some of the normalized word counts of the first datapoint\n",
        "data.x[0][:50]"
      ],
      "metadata": {
        "colab": {
          "base_uri": "https://localhost:8080/"
        },
        "id": "Gd3GUGWMGzIp",
        "outputId": "e5b7bd0d-b386-41be-c749-93445ac6c0ee"
      },
      "execution_count": 4,
      "outputs": [
        {
          "output_type": "stream",
          "name": "stdout",
          "text": [
            "torch.Size([2708, 1433])\n"
          ]
        },
        {
          "output_type": "execute_result",
          "data": {
            "text/plain": [
              "tensor([0.0000, 0.0000, 0.0000, 0.0000, 0.0000, 0.0000, 0.0000, 0.0000, 0.0000,\n",
              "        0.0000, 0.0000, 0.0000, 0.0000, 0.0000, 0.0000, 0.0000, 0.0000, 0.0000,\n",
              "        0.0000, 0.1111, 0.0000, 0.0000, 0.0000, 0.0000, 0.0000, 0.0000, 0.0000,\n",
              "        0.0000, 0.0000, 0.0000, 0.0000, 0.0000, 0.0000, 0.0000, 0.0000, 0.0000,\n",
              "        0.0000, 0.0000, 0.0000, 0.0000, 0.0000, 0.0000, 0.0000, 0.0000, 0.0000,\n",
              "        0.0000, 0.0000, 0.0000, 0.0000, 0.0000])"
            ]
          },
          "metadata": {},
          "execution_count": 4
        }
      ]
    },
    {
      "cell_type": "code",
      "source": [
        "# Binary mask\n",
        "print(len(data.test_mask) == data.num_nodes)\n",
        "data.test_mask"
      ],
      "metadata": {
        "colab": {
          "base_uri": "https://localhost:8080/"
        },
        "id": "Ex5AHVCkGzEJ",
        "outputId": "ad36f8ab-7d0e-44d4-d713-ac0efd0d8d71"
      },
      "execution_count": 5,
      "outputs": [
        {
          "output_type": "stream",
          "name": "stdout",
          "text": [
            "True\n"
          ]
        },
        {
          "output_type": "execute_result",
          "data": {
            "text/plain": [
              "tensor([False, False, False,  ...,  True,  True,  True])"
            ]
          },
          "metadata": {},
          "execution_count": 5
        }
      ]
    },
    {
      "cell_type": "code",
      "source": [
        "# Edge Connection\n",
        "data.edge_index.t()"
      ],
      "metadata": {
        "colab": {
          "base_uri": "https://localhost:8080/"
        },
        "id": "fADTp4RfGzA6",
        "outputId": "09c857d3-b98b-4aaf-d6dd-7f533c576465"
      },
      "execution_count": 6,
      "outputs": [
        {
          "output_type": "execute_result",
          "data": {
            "text/plain": [
              "tensor([[ 633,    0],\n",
              "        [1862,    0],\n",
              "        [2582,    0],\n",
              "        ...,\n",
              "        [ 598, 2707],\n",
              "        [1473, 2707],\n",
              "        [2706, 2707]])"
            ]
          },
          "metadata": {},
          "execution_count": 6
        }
      ]
    },
    {
      "cell_type": "code",
      "source": [
        "class GCNLayer(torch.nn.Module):\n",
        "  def __init__(self, in_features, out_features, k_hop):\n",
        "    super().__init__()\n",
        "    self.k_hop = k_hop\n",
        "    self.in_features = in_features\n",
        "    self.out_features = out_features\n",
        "\n",
        "    self.linear = nn.Linear(self.in_features, self.out_features, self.k_hop)\n",
        "\n",
        "  def normalize_adj(self, adj):\n",
        "        \"\"\"Symmetrically normalize adjacency matrix.\"\"\"\n",
        "        adj = adj.to_sparse()\n",
        "        rowsum = torch.sparse.sum(adj, dim=1) # dim=1\n",
        "        # print(rowsum)\n",
        "\n",
        "        d_inv_sqrt = torch.pow(rowsum, -0.5).flatten()\n",
        "        # print(d_inv_sqrt)\n",
        "        d_inv_sqrt = d_inv_sqrt.to_dense()              # START HERE\n",
        "\n",
        "        d_inv_sqrt[torch.isinf(d_inv_sqrt)] = 0.\n",
        "\n",
        "        d_mat_inv_sqrt = torch.diag(d_inv_sqrt)\n",
        "\n",
        "        return torch.sparse.mm(torch.sparse.mm(adj, d_mat_inv_sqrt).T, d_mat_inv_sqrt).to_sparse()\n",
        "        # return torch.matmul(torch.matmul(adj.T, d_mat_inv_sqrt.T), d_mat_inv_sqrt).to_sparse()\n",
        "        # adj.dot(d_mat_inv_sqrt).transpose().dot(d_mat_inv_sqrt).tocoo()\n",
        "\n",
        "  def chebyshev_polynomials(self, adj, k):\n",
        "        \"\"\"Calculate Chebyshev polynomials up to order k (k-hop). Return a list of sparse matrices (tuple representation).\"\"\"\n",
        "        # print(f\"Calculating Chebyshev polynomials up to order {k}...\")\n",
        "\n",
        "        adj_normalized = self.normalize_adj(adj)\n",
        "        laplacian = torch.eye(adj.shape[0]).to(device) - adj_normalized\n",
        "        largest_eigval, _ = torch.lobpcg(laplacian, 1, largest=True)\n",
        "        scaled_laplacian = (2. / largest_eigval[0]) * laplacian - torch.eye(adj.shape[0]).to(device).to_sparse()\n",
        "\n",
        "        t_k = list()\n",
        "        t_k.append(torch.eye(adj.shape[0]).to_sparse().to(device))\n",
        "        t_k.append(scaled_laplacian)\n",
        "\n",
        "        def chebyshev_recurrence(t_k_minus_one, t_k_minus_two, scaled_lap):\n",
        "            s_lap = scaled_lap\n",
        "            return 2 * torch.sparse.mm(s_lap.T, t_k_minus_one) - t_k_minus_two\n",
        "\n",
        "        for i in range(2, k+1):\n",
        "            t_k.append(chebyshev_recurrence(t_k[-1], t_k[-2], scaled_laplacian))\n",
        "\n",
        "        return t_k\n",
        "\n",
        "\n",
        "  ## It calculate supports (k-hop message) by multiplying with X no need to matmul(supports, features) it become retndant\n",
        "  def forward(self, features, adj_mat): #features or x\n",
        "    # adj_mat = torch.ones(edge_ind).to_sparse()\n",
        "    # print(f\"adj_mat size {adj_mat}\")\n",
        "\n",
        "    supports =  self.chebyshev_polynomials(adj_mat, self.k_hop)\n",
        "\n",
        "    for i in range(len(supports)):\n",
        "      supports[i] = torch.sparse.mm(supports[i], features)\n",
        "\n",
        "    output = sum(supports)\n",
        "    # print(output)\n",
        "\n",
        "    return self.linear(output)\n",
        "\n",
        "  # def forward(self, adj_mat, features):\n",
        "  #   supports =  self.chebyshev_polynomials(adj_mat, self.k_hop)[-1]\n",
        "  #   return self.linear(torch.matmul(supports, features))"
      ],
      "metadata": {
        "id": "uZpJ-jB17UxM"
      },
      "execution_count": 7,
      "outputs": []
    },
    {
      "cell_type": "code",
      "source": [
        "import torch\n",
        "import torch.nn as nn\n",
        "class GCN(torch.nn.Module):\n",
        "    def __init__(self,in_fetures, out_featres, hidden_channels, k_hop):\n",
        "        super(GCN, self).__init__()\n",
        "        torch.manual_seed(42)\n",
        "\n",
        "        # Initialize the layers\n",
        "        self.conv1 = GCNLayer(in_fetures, hidden_channels, k_hop)\n",
        "        # self.conv2 = GCNLayer(hidden_channels, hidden_channels, k_hop)\n",
        "        self.out = nn.Linear(hidden_channels, out_featres)\n",
        "\n",
        "    def forward(self, x, edge_index):\n",
        "        # First Message Passing Layer (Transformation)\n",
        "        x = self.conv1(x, edge_index)\n",
        "        x = x.relu()\n",
        "        # x = F.dropout(x, p=0.5, training=self.training)\n",
        "\n",
        "        # # Second Message Passing Layer\n",
        "        # x = self.conv2(x, edge_index)\n",
        "        # x = x.relu()\n",
        "        # x = F.dropout(x, p=0.5, training=self.training)\n",
        "\n",
        "        # Output layer\n",
        "        x = F.softmax(self.out(x), dim=1)\n",
        "        return x\n",
        "\n",
        "model = GCN(dataset.num_features, dataset.num_classes, hidden_channels=16, k_hop=2)\n",
        "print(model)\n",
        "\n",
        "print(\"Number of Params: \", sum(p.numel() for p in model.parameters()))"
      ],
      "metadata": {
        "colab": {
          "base_uri": "https://localhost:8080/"
        },
        "id": "uzc3qhsfnzyQ",
        "outputId": "028f34ad-3d87-4fa1-98a4-5be8a648c6ae"
      },
      "execution_count": 17,
      "outputs": [
        {
          "output_type": "stream",
          "name": "stdout",
          "text": [
            "GCN(\n",
            "  (conv1): GCNLayer(\n",
            "    (linear): Linear(in_features=1433, out_features=16, bias=True)\n",
            "  )\n",
            "  (out): Linear(in_features=16, out_features=7, bias=True)\n",
            ")\n",
            "Number of Params:  23063\n"
          ]
        }
      ]
    },
    {
      "cell_type": "code",
      "source": [
        "def edge_index_to_adjacency_matrix(edge_index, num_nodes=None):\n",
        "    if num_nodes is None:\n",
        "        num_nodes = edge_index.max() + 1\n",
        "\n",
        "    adj_matrix = torch.zeros((num_nodes, num_nodes), dtype=torch.float)\n",
        "\n",
        "    for i in range(edge_index.size(1)):\n",
        "        source_node = edge_index[0, i]\n",
        "        target_node = edge_index[1, i]\n",
        "        adj_matrix[source_node, target_node] = 1.0\n",
        "\n",
        "    return adj_matrix.to_sparse()\n",
        "adj_mat_sparse = edge_index_to_adjacency_matrix(data.edge_index)\n",
        "# adj_mat_sparse"
      ],
      "metadata": {
        "id": "jrz47gclkUbf"
      },
      "execution_count": 9,
      "outputs": []
    },
    {
      "cell_type": "code",
      "source": [
        "# Initialize model\n",
        "model = GCN(dataset.num_features, dataset.num_classes, hidden_channels=16, k_hop=2)\n",
        "\n",
        "# Use GPU\n",
        "device = torch.device(\"cuda:0\" if torch.cuda.is_available() else \"cpu\")\n",
        "model = model.to(device)\n",
        "data = data.to(device)\n",
        "adj_mat_sparse = adj_mat_sparse.to(device)\n",
        "\n",
        "# Initialize Optimizer\n",
        "learning_rate = 0.01\n",
        "decay = 5e-4\n",
        "optimizer = torch.optim.Adam(model.parameters(),\n",
        "                             lr=learning_rate,\n",
        "                             weight_decay=decay)\n",
        "# Define loss function (CrossEntropyLoss for Classification Problems with\n",
        "# probability distributions)\n",
        "criterion = torch.nn.CrossEntropyLoss()\n",
        "\n",
        "def train():\n",
        "      model.train()\n",
        "      optimizer.zero_grad()\n",
        "      # Use all data as input, because all nodes have node features\n",
        "      out = model(data.x, adj_mat_sparse)\n",
        "      # Only use nodes with labels available for loss calculation --> mask\n",
        "      loss = criterion(out[data.train_mask], data.y[data.train_mask])\n",
        "      loss.backward()\n",
        "      optimizer.step()\n",
        "      return loss\n",
        "\n",
        "def test():\n",
        "      model.eval()\n",
        "      out = model(data.x, adj_mat_sparse)\n",
        "      # Use the class with highest probability.\n",
        "      pred = out.argmax(dim=1)\n",
        "      # Check against ground-truth labels.\n",
        "      test_correct = pred[data.test_mask] == data.y[data.test_mask]\n",
        "      # Derive ratio of correct predictions.\n",
        "      test_acc = int(test_correct.sum()) / int(data.test_mask.sum())\n",
        "      return test_acc\n",
        "\n",
        "losses = []\n",
        "for epoch in range(0, 501):\n",
        "    loss = train()\n",
        "    losses.append(loss)\n",
        "    if epoch % 100 == 0:\n",
        "      print(f'Epoch: {epoch:03d}, Loss: {loss:.4f}')"
      ],
      "metadata": {
        "colab": {
          "base_uri": "https://localhost:8080/"
        },
        "id": "ivB7ClunLvFB",
        "outputId": "02f64d2d-a2e2-40fb-eec8-7ef42c93531c"
      },
      "execution_count": 22,
      "outputs": [
        {
          "output_type": "stream",
          "name": "stdout",
          "text": [
            "Epoch: 000, Loss: 1.9461\n",
            "Epoch: 100, Loss: 1.4754\n",
            "Epoch: 200, Loss: 1.2769\n",
            "Epoch: 300, Loss: 1.2517\n",
            "Epoch: 400, Loss: 1.2464\n",
            "Epoch: 500, Loss: 1.2448\n"
          ]
        }
      ]
    },
    {
      "cell_type": "code",
      "source": [
        "# Visualize learning (training loss)\n",
        "import seaborn as sns\n",
        "losses_float = [float(loss.cpu().detach().numpy()) for loss in losses]\n",
        "# loss_indices = [i for i,l in enumerate(losses_float)]\n",
        "plt = sns.lineplot(data=losses_float)\n",
        "plt"
      ],
      "metadata": {
        "colab": {
          "base_uri": "https://localhost:8080/",
          "height": 447
        },
        "id": "ersJELVfOkot",
        "outputId": "bd560910-8b86-420c-b125-ced42985c51e"
      },
      "execution_count": 23,
      "outputs": [
        {
          "output_type": "execute_result",
          "data": {
            "text/plain": [
              "<Axes: >"
            ]
          },
          "metadata": {},
          "execution_count": 23
        },
        {
          "output_type": "display_data",
          "data": {
            "text/plain": [
              "<Figure size 640x480 with 1 Axes>"
            ],
            "image/png": "[encoded data removed]"
          },
          "metadata": {}
        }
      ]
    },
    {
      "cell_type": "code",
      "source": [
        "test_acc = test()\n",
        "print(f'Test Accuracy: {test_acc:.4f}')"
      ],
      "metadata": {
        "colab": {
          "base_uri": "https://localhost:8080/"
        },
        "id": "TExkuK2BOlvp",
        "outputId": "052bf640-f6d0-4dd8-ec3a-7e0d7c6741f9"
      },
      "execution_count": 24,
      "outputs": [
        {
          "output_type": "stream",
          "name": "stdout",
          "text": [
            "Test Accuracy: 0.5950\n"
          ]
        }
      ]
    },
    {
      "cell_type": "code",
      "source": [],
      "metadata": {
        "id": "iKGCF8cxONlj"
      },
      "execution_count": null,
      "outputs": []
    },
    {
      "cell_type": "code",
      "source": [],
      "metadata": {
        "id": "2ceTNOSyONi7"
      },
      "execution_count": null,
      "outputs": []
    },
    {
      "cell_type": "code",
      "source": [],
      "metadata": {
        "id": "SF4hxKPX1imd"
      },
      "execution_count": null,
      "outputs": []
    },
    {
      "cell_type": "code",
      "source": [],
      "metadata": {
        "id": "BqogHuLR1ijz"
      },
      "execution_count": null,
      "outputs": []
    }
  ]
}