{
  "nbformat": 4,
  "nbformat_minor": 0,
  "metadata": {
    "colab": {
      "provenance": []
    },
    "kernelspec": {
      "name": "python3",
      "display_name": "Python 3"
    },
    "language_info": {
      "name": "python"
    }
  },
  "cells": [
    {
      "cell_type": "markdown",
      "source": [
        "## It is much simpler version of GCN which is trained on small sithetic graph data which produce output embedings."
      ],
      "metadata": {
        "id": "Vuhlioi64oVr"
      }
    },
    {
      "cell_type": "code",
      "execution_count": null,
      "metadata": {
        "id": "04p_kLOHzlRP"
      },
      "outputs": [],
      "source": [
        "import networkx as nx\n",
        "import numpy as np\n",
        "import torch.nn as nn\n",
        "import torch.nn.functional as F\n",
        "import torch"
      ]
    },
    {
      "cell_type": "code",
      "source": [
        "graph = nx.Graph()\n",
        "\n",
        "# Adding node, edges and node feature into Graph\n",
        "graph.add_nodes_from([1,2,3,4,5])\n",
        "graph.add_edges_from([(1,2), (1,3), (3,5), (4,5), (5,2), (2,3)])\n",
        "graph.nodes[1]['feature'] = [1,2]\n",
        "graph.nodes[2]['feature'] = [2,3]\n",
        "graph.nodes[3]['feature'] = [3,4]\n",
        "graph.nodes[4]['feature'] = [4,5]\n",
        "graph.nodes[5]['feature'] = [5,6]\n",
        "\n",
        "nx.draw(graph)"
      ],
      "metadata": {
        "colab": {
          "base_uri": "https://localhost:8080/",
          "height": 516
        },
        "id": "Fhxjk5wezzr1",
        "outputId": "26463531-9edd-4490-dd93-8fccf6e07b5e"
      },
      "execution_count": null,
      "outputs": [
        {
          "output_type": "display_data",
          "data": {
            "text/plain": [
              "<Figure size 640x480 with 1 Axes>"
            ],
            "image/png": "[encoded data removed]"
          },
          "metadata": {}
        }
      ]
    },
    {
      "cell_type": "code",
      "source": [
        "# Converting graph to adjacensy matrix\n",
        "adj_mat = nx.to_numpy_array(graph)\n",
        "num_nodes = graph.number_of_nodes()\n",
        "\n",
        "#### Can be calculated Degree Matrix here or later\n",
        "# degree_mat = np.zeros((num_nodes,num_nodes))\n",
        "# for i, node in zip(range(num_nodes),graph.nodes()):\n",
        "#   degree_mat[i, i] = graph.degree()[node]\n",
        "## OR Self-Loop\n",
        "degree_mat = np.sum(adj_mat + np.eye(adj_mat.shape[0]), axis=1)\n",
        "\n",
        "# Calculating feature matrix\n",
        "feature_vec_len = len(graph.nodes[1]['feature'])\n",
        "feature_mat = np.zeros((num_nodes, feature_vec_len))\n",
        "for i in range(num_nodes):\n",
        "  feature_mat[i] = graph.nodes[i+1]['feature']"
      ],
      "metadata": {
        "id": "UnjLRefv053r"
      },
      "execution_count": null,
      "outputs": []
    },
    {
      "cell_type": "code",
      "source": [
        "class GCN(nn.Module):\n",
        "  def __init__(self, in_feature, out_feature) -> None:\n",
        "    super(GCN, self).__init__()\n",
        "    self.linear = nn.Linear(in_feature, out_feature)\n",
        "  def forward(self, adj_mat, feature_mat):\n",
        "    degree_mat = np.sum(adj_mat, axis=1)\n",
        "\n",
        "    # Converting into the form D^(1/2)AD^(1/2)\n",
        "    norm_degree_mat = np.diag(np.power(degree_mat, -0.5))\n",
        "    spectral_mat = norm_degree_mat.dot(adj_mat).dot(norm_degree_mat)\n",
        "\n",
        "    # Convert matrices to tensors\n",
        "    adj_matrix_tensor = torch.FloatTensor(spectral_mat)\n",
        "    feature_matrix_tensor = torch.FloatTensor(feature_mat)\n",
        "\n",
        "    inp = torch.matmul(adj_matrix_tensor, feature_matrix_tensor)\n",
        "    x = self.linear(inp)\n",
        "    output = F.relu(x)\n",
        "\n",
        "    return output"
      ],
      "metadata": {
        "id": "MhBaKBqo_EAj"
      },
      "execution_count": null,
      "outputs": []
    },
    {
      "cell_type": "code",
      "source": [
        "# Creating GCN layer\n",
        "gcn_layer = GCN(in_feature=2, out_feature=4)\n",
        "outputs = gcn_layer(adj_mat, feature_mat)\n",
        "\n",
        "# Embeddings\n",
        "outputs"
      ],
      "metadata": {
        "colab": {
          "base_uri": "https://localhost:8080/"
        },
        "id": "8JD1LthuPaSM",
        "outputId": "add27a99-3513-4d14-e96a-148b21f2973b"
      },
      "execution_count": null,
      "outputs": [
        {
          "output_type": "execute_result",
          "data": {
            "text/plain": [
              "tensor([[0.5163, 0.8799, 1.3113, 0.0369],\n",
              "        [0.7060, 1.2942, 1.6952, 0.1409],\n",
              "        [0.6567, 1.1841, 1.5995, 0.0864],\n",
              "        [0.6076, 1.0918, 1.4732, 0.2355],\n",
              "        [0.8634, 1.6395, 2.0108, 0.2457]], grad_fn=<ReluBackward0>)"
            ]
          },
          "metadata": {},
          "execution_count": 91
        }
      ]
    },
    {
      "cell_type": "code",
      "source": [
        "t = torch.tensor([1,2,3])\n",
        "t.pow(-0.5)"
      ],
      "metadata": {
        "colab": {
          "base_uri": "https://localhost:8080/"
        },
        "id": "GrG5CYdkEX4f",
        "outputId": "daeedf5f-3d17-4b47-81c1-bf1805236ffa"
      },
      "execution_count": null,
      "outputs": [
        {
          "output_type": "execute_result",
          "data": {
            "text/plain": [
              "tensor([1.0000, 0.7071, 0.5774])"
            ]
          },
          "metadata": {},
          "execution_count": 92
        }
      ]
    },
    {
      "cell_type": "code",
      "source": [],
      "metadata": {
        "id": "3J5SmaHlWiSB"
      },
      "execution_count": null,
      "outputs": []
    }
  ]
}